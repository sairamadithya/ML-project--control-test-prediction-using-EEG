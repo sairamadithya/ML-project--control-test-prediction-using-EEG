{
 "cells": [
  {
   "cell_type": "code",
   "execution_count": 1,
   "id": "4f9bf175",
   "metadata": {
    "scrolled": true
   },
   "outputs": [
    {
     "data": {
      "text/html": [
       "<div>\n",
       "<style scoped>\n",
       "    .dataframe tbody tr th:only-of-type {\n",
       "        vertical-align: middle;\n",
       "    }\n",
       "\n",
       "    .dataframe tbody tr th {\n",
       "        vertical-align: top;\n",
       "    }\n",
       "\n",
       "    .dataframe thead th {\n",
       "        text-align: right;\n",
       "    }\n",
       "</style>\n",
       "<table border=\"1\" class=\"dataframe\">\n",
       "  <thead>\n",
       "    <tr style=\"text-align: right;\">\n",
       "      <th></th>\n",
       "      <th>F1</th>\n",
       "      <th>F2</th>\n",
       "      <th>F3</th>\n",
       "      <th>F4</th>\n",
       "      <th>F5</th>\n",
       "      <th>F6</th>\n",
       "      <th>F7</th>\n",
       "      <th>F8</th>\n",
       "      <th>F9</th>\n",
       "      <th>F10</th>\n",
       "      <th>...</th>\n",
       "      <th>F472</th>\n",
       "      <th>F473</th>\n",
       "      <th>F474</th>\n",
       "      <th>F475</th>\n",
       "      <th>F476</th>\n",
       "      <th>F477</th>\n",
       "      <th>F478</th>\n",
       "      <th>F479</th>\n",
       "      <th>F480</th>\n",
       "      <th>Class</th>\n",
       "    </tr>\n",
       "  </thead>\n",
       "  <tbody>\n",
       "    <tr>\n",
       "      <th>0</th>\n",
       "      <td>0.760200</td>\n",
       "      <td>0.760200</td>\n",
       "      <td>0.620000</td>\n",
       "      <td>1.000000</td>\n",
       "      <td>1.000000</td>\n",
       "      <td>0.7602</td>\n",
       "      <td>1.000000</td>\n",
       "      <td>1.000000</td>\n",
       "      <td>0.619900</td>\n",
       "      <td>1.000000</td>\n",
       "      <td>...</td>\n",
       "      <td>0.987219</td>\n",
       "      <td>0.989565</td>\n",
       "      <td>0.998640</td>\n",
       "      <td>1.000000</td>\n",
       "      <td>0.962797</td>\n",
       "      <td>0.979796</td>\n",
       "      <td>0.994741</td>\n",
       "      <td>0.985073</td>\n",
       "      <td>0.987748</td>\n",
       "      <td>C</td>\n",
       "    </tr>\n",
       "    <tr>\n",
       "      <th>1</th>\n",
       "      <td>0.760219</td>\n",
       "      <td>1.000000</td>\n",
       "      <td>0.760203</td>\n",
       "      <td>1.000000</td>\n",
       "      <td>1.000000</td>\n",
       "      <td>1.0000</td>\n",
       "      <td>1.000000</td>\n",
       "      <td>1.000000</td>\n",
       "      <td>0.760235</td>\n",
       "      <td>1.000000</td>\n",
       "      <td>...</td>\n",
       "      <td>0.972903</td>\n",
       "      <td>1.000000</td>\n",
       "      <td>0.984484</td>\n",
       "      <td>0.994453</td>\n",
       "      <td>0.992057</td>\n",
       "      <td>0.992039</td>\n",
       "      <td>0.998955</td>\n",
       "      <td>0.993867</td>\n",
       "      <td>0.971642</td>\n",
       "      <td>C</td>\n",
       "    </tr>\n",
       "    <tr>\n",
       "      <th>2</th>\n",
       "      <td>0.767665</td>\n",
       "      <td>0.760478</td>\n",
       "      <td>1.000000</td>\n",
       "      <td>1.000000</td>\n",
       "      <td>1.000000</td>\n",
       "      <td>1.0000</td>\n",
       "      <td>0.760250</td>\n",
       "      <td>0.760883</td>\n",
       "      <td>0.760278</td>\n",
       "      <td>0.760712</td>\n",
       "      <td>...</td>\n",
       "      <td>0.993844</td>\n",
       "      <td>0.991813</td>\n",
       "      <td>0.993898</td>\n",
       "      <td>0.990465</td>\n",
       "      <td>0.982123</td>\n",
       "      <td>0.984472</td>\n",
       "      <td>0.980884</td>\n",
       "      <td>0.992068</td>\n",
       "      <td>0.996257</td>\n",
       "      <td>C</td>\n",
       "    </tr>\n",
       "    <tr>\n",
       "      <th>3</th>\n",
       "      <td>1.000000</td>\n",
       "      <td>0.760669</td>\n",
       "      <td>1.000000</td>\n",
       "      <td>1.000000</td>\n",
       "      <td>0.760226</td>\n",
       "      <td>1.0000</td>\n",
       "      <td>0.760792</td>\n",
       "      <td>1.000000</td>\n",
       "      <td>0.620244</td>\n",
       "      <td>0.770195</td>\n",
       "      <td>...</td>\n",
       "      <td>0.994312</td>\n",
       "      <td>0.984167</td>\n",
       "      <td>0.997980</td>\n",
       "      <td>0.989754</td>\n",
       "      <td>0.973449</td>\n",
       "      <td>0.995377</td>\n",
       "      <td>0.990504</td>\n",
       "      <td>0.989309</td>\n",
       "      <td>1.000000</td>\n",
       "      <td>C</td>\n",
       "    </tr>\n",
       "    <tr>\n",
       "      <th>4</th>\n",
       "      <td>1.000000</td>\n",
       "      <td>0.760199</td>\n",
       "      <td>0.760350</td>\n",
       "      <td>0.760908</td>\n",
       "      <td>1.000000</td>\n",
       "      <td>1.0000</td>\n",
       "      <td>1.000000</td>\n",
       "      <td>1.000000</td>\n",
       "      <td>1.000000</td>\n",
       "      <td>1.000000</td>\n",
       "      <td>...</td>\n",
       "      <td>0.980532</td>\n",
       "      <td>0.993955</td>\n",
       "      <td>0.956835</td>\n",
       "      <td>0.985188</td>\n",
       "      <td>1.000000</td>\n",
       "      <td>0.999691</td>\n",
       "      <td>0.976811</td>\n",
       "      <td>0.980823</td>\n",
       "      <td>0.979616</td>\n",
       "      <td>C</td>\n",
       "    </tr>\n",
       "  </tbody>\n",
       "</table>\n",
       "<p>5 rows × 481 columns</p>\n",
       "</div>"
      ],
      "text/plain": [
       "         F1        F2        F3        F4        F5      F6        F7  \\\n",
       "0  0.760200  0.760200  0.620000  1.000000  1.000000  0.7602  1.000000   \n",
       "1  0.760219  1.000000  0.760203  1.000000  1.000000  1.0000  1.000000   \n",
       "2  0.767665  0.760478  1.000000  1.000000  1.000000  1.0000  0.760250   \n",
       "3  1.000000  0.760669  1.000000  1.000000  0.760226  1.0000  0.760792   \n",
       "4  1.000000  0.760199  0.760350  0.760908  1.000000  1.0000  1.000000   \n",
       "\n",
       "         F8        F9       F10  ...      F472      F473      F474      F475  \\\n",
       "0  1.000000  0.619900  1.000000  ...  0.987219  0.989565  0.998640  1.000000   \n",
       "1  1.000000  0.760235  1.000000  ...  0.972903  1.000000  0.984484  0.994453   \n",
       "2  0.760883  0.760278  0.760712  ...  0.993844  0.991813  0.993898  0.990465   \n",
       "3  1.000000  0.620244  0.770195  ...  0.994312  0.984167  0.997980  0.989754   \n",
       "4  1.000000  1.000000  1.000000  ...  0.980532  0.993955  0.956835  0.985188   \n",
       "\n",
       "       F476      F477      F478      F479      F480  Class  \n",
       "0  0.962797  0.979796  0.994741  0.985073  0.987748      C  \n",
       "1  0.992057  0.992039  0.998955  0.993867  0.971642      C  \n",
       "2  0.982123  0.984472  0.980884  0.992068  0.996257      C  \n",
       "3  0.973449  0.995377  0.990504  0.989309  1.000000      C  \n",
       "4  1.000000  0.999691  0.976811  0.980823  0.979616      C  \n",
       "\n",
       "[5 rows x 481 columns]"
      ]
     },
     "execution_count": 1,
     "metadata": {},
     "output_type": "execute_result"
    }
   ],
   "source": [
    "import pandas as pd\n",
    "import numpy as np\n",
    "data=pd.read_csv(r\"C:\\Users\\sairam\\Downloads\\eeg dataset\\50%C&T_PAC&PLV_3conditions.csv\")\n",
    "data.head()"
   ]
  },
  {
   "cell_type": "code",
   "execution_count": 2,
   "id": "3e2d115c",
   "metadata": {},
   "outputs": [
    {
     "name": "stdout",
     "output_type": "stream",
     "text": [
      "<class 'pandas.core.frame.DataFrame'>\n",
      "RangeIndex: 42 entries, 0 to 41\n",
      "Columns: 481 entries, F1 to Class\n",
      "dtypes: float64(477), int64(3), object(1)\n",
      "memory usage: 158.0+ KB\n"
     ]
    }
   ],
   "source": [
    "data.info()"
   ]
  },
  {
   "cell_type": "code",
   "execution_count": 3,
   "id": "e213c3e5",
   "metadata": {},
   "outputs": [
    {
     "data": {
      "text/plain": [
       "F1       0\n",
       "F2       0\n",
       "F3       0\n",
       "F4       0\n",
       "F5       0\n",
       "        ..\n",
       "F477     0\n",
       "F478     0\n",
       "F479     0\n",
       "F480     0\n",
       "Class    0\n",
       "Length: 481, dtype: int64"
      ]
     },
     "execution_count": 3,
     "metadata": {},
     "output_type": "execute_result"
    }
   ],
   "source": [
    "data.isnull().sum()"
   ]
  },
  {
   "cell_type": "code",
   "execution_count": 4,
   "id": "c087a711",
   "metadata": {},
   "outputs": [
    {
     "data": {
      "text/plain": [
       "T1    12\n",
       "T2    12\n",
       "T3    12\n",
       "C      6\n",
       "Name: Class, dtype: int64"
      ]
     },
     "execution_count": 4,
     "metadata": {},
     "output_type": "execute_result"
    }
   ],
   "source": [
    "data['Class'].value_counts()"
   ]
  },
  {
   "cell_type": "code",
   "execution_count": 5,
   "id": "95f10bf1",
   "metadata": {},
   "outputs": [
    {
     "data": {
      "text/plain": [
       "1    12\n",
       "2    12\n",
       "3    12\n",
       "0     6\n",
       "Name: Class, dtype: int64"
      ]
     },
     "execution_count": 5,
     "metadata": {},
     "output_type": "execute_result"
    }
   ],
   "source": [
    "from sklearn.preprocessing import LabelEncoder\n",
    "enc=LabelEncoder()\n",
    "data['Class']=enc.fit_transform(data['Class'])\n",
    "data['Class'].value_counts()"
   ]
  },
  {
   "cell_type": "code",
   "execution_count": 6,
   "id": "2293020d",
   "metadata": {},
   "outputs": [],
   "source": [
    "cls_0=data[data['Class']==0]\n",
    "cls_1=data[data['Class']==1]\n",
    "cls_2=data[data['Class']==2]\n",
    "cls_3=data[data['Class']==3]"
   ]
  },
  {
   "cell_type": "code",
   "execution_count": 9,
   "id": "11e9311d",
   "metadata": {},
   "outputs": [
    {
     "name": "stdout",
     "output_type": "stream",
     "text": [
      "<class 'pandas.core.frame.DataFrame'>\n",
      "Int64Index: 1000 entries, 5 to 14\n",
      "Columns: 481 entries, F1 to Class\n",
      "dtypes: float64(477), int32(1), int64(3)\n",
      "memory usage: 3.7 MB\n"
     ]
    }
   ],
   "source": [
    "cls_0=cls_0.sample(250,replace=True)\n",
    "cls_1=cls_1.sample(250,replace=True)\n",
    "cls_2=cls_2.sample(250,replace=True)\n",
    "cls_3=cls_3.sample(250,replace=True)\n",
    "data = pd.concat([cls_0,cls_1,cls_2,cls_3 ], axis=0)\n",
    "data.info()"
   ]
  },
  {
   "cell_type": "code",
   "execution_count": 10,
   "id": "5491a9da",
   "metadata": {},
   "outputs": [],
   "source": [
    "corr=data.corr()"
   ]
  },
  {
   "cell_type": "code",
   "execution_count": 13,
   "id": "aab69b9c",
   "metadata": {},
   "outputs": [
    {
     "data": {
      "text/plain": [
       "F4       0.700789\n",
       "F20      0.700298\n",
       "F36      0.700654\n",
       "F322     0.728822\n",
       "F327     0.719131\n",
       "F338     0.728828\n",
       "F343     0.718987\n",
       "F354     0.728792\n",
       "F359     0.718995\n",
       "F439     0.784400\n",
       "Class    1.000000\n",
       "Name: Class, dtype: float64"
      ]
     },
     "execution_count": 13,
     "metadata": {},
     "output_type": "execute_result"
    }
   ],
   "source": [
    "cor_target = abs(corr[\"Class\"])\n",
    "#Selecting highly correlated features\n",
    "relevant_features = cor_target[cor_target>0.7]\n",
    "relevant_features\n",
    "#if needed use these features alone. These are highly correlated (only if u dont need to use all 450 columns)"
   ]
  },
  {
   "cell_type": "code",
   "execution_count": 17,
   "id": "04bf084d",
   "metadata": {},
   "outputs": [],
   "source": [
    "y=data['Class']\n",
    "X=data.drop(['Class'],axis=1)\n"
   ]
  },
  {
   "cell_type": "code",
   "execution_count": 18,
   "id": "78e86bda",
   "metadata": {},
   "outputs": [
    {
     "name": "stdout",
     "output_type": "stream",
     "text": [
      "training data shape is :(700, 480).\n",
      "training label shape is :(700,).\n",
      "testing data shape is :(300, 480).\n",
      "testing label shape is :(300,).\n"
     ]
    }
   ],
   "source": [
    "from sklearn.model_selection import train_test_split\n",
    "\n",
    "X_train,X_test ,y_train, y_test = train_test_split(X,y,\n",
    "                                                   test_size=0.30,\n",
    "                                                   random_state=0,\n",
    "                                                  shuffle = True,\n",
    "                                                  stratify = y)\n",
    "\n",
    "print('training data shape is :{}.'.format(X_train.shape))\n",
    "print('training label shape is :{}.'.format(y_train.shape))\n",
    "print('testing data shape is :{}.'.format(X_test.shape))\n",
    "print('testing label shape is :{}.'.format(y_test.shape))"
   ]
  },
  {
   "cell_type": "code",
   "execution_count": 22,
   "id": "16fe7bc1",
   "metadata": {},
   "outputs": [
    {
     "data": {
      "text/html": [
       "<style>#sk-container-id-2 {color: black;background-color: white;}#sk-container-id-2 pre{padding: 0;}#sk-container-id-2 div.sk-toggleable {background-color: white;}#sk-container-id-2 label.sk-toggleable__label {cursor: pointer;display: block;width: 100%;margin-bottom: 0;padding: 0.3em;box-sizing: border-box;text-align: center;}#sk-container-id-2 label.sk-toggleable__label-arrow:before {content: \"▸\";float: left;margin-right: 0.25em;color: #696969;}#sk-container-id-2 label.sk-toggleable__label-arrow:hover:before {color: black;}#sk-container-id-2 div.sk-estimator:hover label.sk-toggleable__label-arrow:before {color: black;}#sk-container-id-2 div.sk-toggleable__content {max-height: 0;max-width: 0;overflow: hidden;text-align: left;background-color: #f0f8ff;}#sk-container-id-2 div.sk-toggleable__content pre {margin: 0.2em;color: black;border-radius: 0.25em;background-color: #f0f8ff;}#sk-container-id-2 input.sk-toggleable__control:checked~div.sk-toggleable__content {max-height: 200px;max-width: 100%;overflow: auto;}#sk-container-id-2 input.sk-toggleable__control:checked~label.sk-toggleable__label-arrow:before {content: \"▾\";}#sk-container-id-2 div.sk-estimator input.sk-toggleable__control:checked~label.sk-toggleable__label {background-color: #d4ebff;}#sk-container-id-2 div.sk-label input.sk-toggleable__control:checked~label.sk-toggleable__label {background-color: #d4ebff;}#sk-container-id-2 input.sk-hidden--visually {border: 0;clip: rect(1px 1px 1px 1px);clip: rect(1px, 1px, 1px, 1px);height: 1px;margin: -1px;overflow: hidden;padding: 0;position: absolute;width: 1px;}#sk-container-id-2 div.sk-estimator {font-family: monospace;background-color: #f0f8ff;border: 1px dotted black;border-radius: 0.25em;box-sizing: border-box;margin-bottom: 0.5em;}#sk-container-id-2 div.sk-estimator:hover {background-color: #d4ebff;}#sk-container-id-2 div.sk-parallel-item::after {content: \"\";width: 100%;border-bottom: 1px solid gray;flex-grow: 1;}#sk-container-id-2 div.sk-label:hover label.sk-toggleable__label {background-color: #d4ebff;}#sk-container-id-2 div.sk-serial::before {content: \"\";position: absolute;border-left: 1px solid gray;box-sizing: border-box;top: 0;bottom: 0;left: 50%;z-index: 0;}#sk-container-id-2 div.sk-serial {display: flex;flex-direction: column;align-items: center;background-color: white;padding-right: 0.2em;padding-left: 0.2em;position: relative;}#sk-container-id-2 div.sk-item {position: relative;z-index: 1;}#sk-container-id-2 div.sk-parallel {display: flex;align-items: stretch;justify-content: center;background-color: white;position: relative;}#sk-container-id-2 div.sk-item::before, #sk-container-id-2 div.sk-parallel-item::before {content: \"\";position: absolute;border-left: 1px solid gray;box-sizing: border-box;top: 0;bottom: 0;left: 50%;z-index: -1;}#sk-container-id-2 div.sk-parallel-item {display: flex;flex-direction: column;z-index: 1;position: relative;background-color: white;}#sk-container-id-2 div.sk-parallel-item:first-child::after {align-self: flex-end;width: 50%;}#sk-container-id-2 div.sk-parallel-item:last-child::after {align-self: flex-start;width: 50%;}#sk-container-id-2 div.sk-parallel-item:only-child::after {width: 0;}#sk-container-id-2 div.sk-dashed-wrapped {border: 1px dashed gray;margin: 0 0.4em 0.5em 0.4em;box-sizing: border-box;padding-bottom: 0.4em;background-color: white;}#sk-container-id-2 div.sk-label label {font-family: monospace;font-weight: bold;display: inline-block;line-height: 1.2em;}#sk-container-id-2 div.sk-label-container {text-align: center;}#sk-container-id-2 div.sk-container {/* jupyter's `normalize.less` sets `[hidden] { display: none; }` but bootstrap.min.css set `[hidden] { display: none !important; }` so we also need the `!important` here to be able to override the default hidden behavior on the sphinx rendered scikit-learn.org. See: https://github.com/scikit-learn/scikit-learn/issues/21755 */display: inline-block !important;position: relative;}#sk-container-id-2 div.sk-text-repr-fallback {display: none;}</style><div id=\"sk-container-id-2\" class=\"sk-top-container\"><div class=\"sk-text-repr-fallback\"><pre>SVC(gamma=8)</pre><b>In a Jupyter environment, please rerun this cell to show the HTML representation or trust the notebook. <br />On GitHub, the HTML representation is unable to render, please try loading this page with nbviewer.org.</b></div><div class=\"sk-container\" hidden><div class=\"sk-item\"><div class=\"sk-estimator sk-toggleable\"><input class=\"sk-toggleable__control sk-hidden--visually\" id=\"sk-estimator-id-2\" type=\"checkbox\" checked><label for=\"sk-estimator-id-2\" class=\"sk-toggleable__label sk-toggleable__label-arrow\">SVC</label><div class=\"sk-toggleable__content\"><pre>SVC(gamma=8)</pre></div></div></div></div></div>"
      ],
      "text/plain": [
       "SVC(gamma=8)"
      ]
     },
     "execution_count": 22,
     "metadata": {},
     "output_type": "execute_result"
    }
   ],
   "source": [
    "from sklearn.svm import SVC\n",
    "svc_model = SVC(kernel='rbf',gamma=8)\n",
    "svc_model.fit(X_train, y_train)"
   ]
  },
  {
   "cell_type": "code",
   "execution_count": 26,
   "id": "18f476a1",
   "metadata": {},
   "outputs": [
    {
     "name": "stdout",
     "output_type": "stream",
     "text": [
      "Training confusion matrix\n",
      "[[175   0   0   0]\n",
      " [  0 175   0   0]\n",
      " [  0   0 175   0]\n",
      " [  0   0   0 175]]\n",
      "Testing confusion matrix\n",
      "[[75  0  0  0]\n",
      " [ 0 75  0  0]\n",
      " [ 0  0 75  0]\n",
      " [ 0  0  0 75]]\n",
      "1.0\n",
      "1.0\n",
      "Train set:700\n",
      "Train Accuracy=100.0%\n",
      "Test set:300\n",
      "Test Accuracy=100.0%\n"
     ]
    }
   ],
   "source": [
    "from sklearn.metrics import accuracy_score, confusion_matrix\n",
    "predictions= svc_model .predict(X_train)\n",
    "percentage=svc_model.score(X_train,y_train)\n",
    "res=confusion_matrix(y_train,predictions)\n",
    "print(\"Training confusion matrix\")\n",
    "print(res)\n",
    "predictions= svc_model .predict(X_test)\n",
    "train_percentage=svc_model.score(X_train,y_train)\n",
    "test_percentage=svc_model.score(X_test,y_test)\n",
    "res=confusion_matrix(y_test,predictions)\n",
    "print(\"Testing confusion matrix\")\n",
    "print(res)\n",
    "# check the accuracy on the training set\n",
    "print(svc_model.score(X_train, y_train))\n",
    "print(svc_model.score(X_test, y_test))\n",
    "print(f\"Train set:{len(X_train)}\")\n",
    "print(f\"Train Accuracy={train_percentage*100}%\")\n",
    "print(f\"Test set:{len(X_test)}\")\n",
    "print(f\"Test Accuracy={test_percentage*100}%\")"
   ]
  }
 ],
 "metadata": {
  "kernelspec": {
   "display_name": "Python 3",
   "language": "python",
   "name": "python3"
  },
  "language_info": {
   "codemirror_mode": {
    "name": "ipython",
    "version": 3
   },
   "file_extension": ".py",
   "mimetype": "text/x-python",
   "name": "python",
   "nbconvert_exporter": "python",
   "pygments_lexer": "ipython3",
   "version": "3.8.8"
  }
 },
 "nbformat": 4,
 "nbformat_minor": 5
}
